{
 "cells": [
  {
   "cell_type": "markdown",
   "id": "727f7d1b",
   "metadata": {},
   "source": [
    "## Imports"
   ]
  },
  {
   "cell_type": "code",
   "execution_count": 1,
   "id": "e76daa59",
   "metadata": {},
   "outputs": [],
   "source": [
    "import tensorflow as tf\n",
    "import pandas as pd\n",
    "import numpy as np\n",
    "\n",
    "from keras.layers import Dense, SimpleRNN, Flatten, Conv2D, LSTM, GRU\n",
    "from keras import Sequential\n",
    "\n",
    "import matplotlib.pyplot as plt"
   ]
  },
  {
   "cell_type": "markdown",
   "id": "36d8eb3b",
   "metadata": {},
   "source": [
    "## Data"
   ]
  },
  {
   "cell_type": "code",
   "execution_count": 2,
   "id": "065fae75",
   "metadata": {},
   "outputs": [],
   "source": [
    "data = pd.read_csv('C:/Users/trolltastic/Downloads/PS4data/data.txt', delimiter=' ', header=None)"
   ]
  },
  {
   "cell_type": "code",
   "execution_count": 3,
   "id": "b0545476",
   "metadata": {},
   "outputs": [],
   "source": [
    "data = data.values.reshape(10000, 51, 1)"
   ]
  },
  {
   "cell_type": "markdown",
   "id": "cf39c23b",
   "metadata": {},
   "source": [
    "## Slicing the data into 70/30"
   ]
  },
  {
   "cell_type": "code",
   "execution_count": 4,
   "id": "3c478890",
   "metadata": {},
   "outputs": [],
   "source": [
    "x_train = data[0:7000, 0:50]\n",
    "y_train = data[0:7000, -1]\n",
    "\n",
    "x_test = data[7000:10000, 0:50]\n",
    "y_test = data[7000:10000, -1]\n",
    "\n",
    "x_predictions = data[7000:7005, 0:50]\n",
    "y_predictions = data[7000:7005, -1]"
   ]
  },
  {
   "cell_type": "markdown",
   "id": "6eb457bb",
   "metadata": {},
   "source": [
    "## Loss Function\n",
    "Since this is a regression task, linear is the best option to include negative numbers as well."
   ]
  },
  {
   "cell_type": "code",
   "execution_count": 5,
   "id": "dd8bf355",
   "metadata": {},
   "outputs": [
    {
     "name": "stdout",
     "output_type": "stream",
     "text": [
      "Model: \"sequential\"\n",
      "_________________________________________________________________\n",
      " Layer (type)                Output Shape              Param #   \n",
      "=================================================================\n",
      " gru (GRU)                   (7000, 50, 15)            810       \n",
      "                                                                 \n",
      " gru_1 (GRU)                 (7000, 15)                1440      \n",
      "                                                                 \n",
      " dense (Dense)               (7000, 1)                 16        \n",
      "                                                                 \n",
      "=================================================================\n",
      "Total params: 2,266\n",
      "Trainable params: 2,266\n",
      "Non-trainable params: 0\n",
      "_________________________________________________________________\n"
     ]
    }
   ],
   "source": [
    "model = Sequential()\n",
    "model.add(GRU(15, return_sequences=True))\n",
    "model.add(GRU(15))\n",
    "model.add(Dense(1, activation='linear'))\n",
    "model.compile(loss='mse', optimizer='adam')\n",
    "model.build(x_train.shape)\n",
    "model.summary()"
   ]
  },
  {
   "cell_type": "code",
   "execution_count": 6,
   "id": "1f75e92e",
   "metadata": {},
   "outputs": [
    {
     "name": "stdout",
     "output_type": "stream",
     "text": [
      "Epoch 1/15\n",
      "197/197 [==============================] - 5s 11ms/step - loss: 0.0382 - val_loss: 0.0168\n",
      "Epoch 2/15\n",
      "197/197 [==============================] - 2s 8ms/step - loss: 0.0085 - val_loss: 0.0055\n",
      "Epoch 3/15\n",
      "197/197 [==============================] - 2s 8ms/step - loss: 0.0050 - val_loss: 0.0054\n",
      "Epoch 4/15\n",
      "197/197 [==============================] - 2s 9ms/step - loss: 0.0046 - val_loss: 0.0046\n",
      "Epoch 5/15\n",
      "197/197 [==============================] - 2s 8ms/step - loss: 0.0043 - val_loss: 0.0044\n",
      "Epoch 6/15\n",
      "197/197 [==============================] - 2s 9ms/step - loss: 0.0041 - val_loss: 0.0049\n",
      "Epoch 7/15\n",
      "197/197 [==============================] - 2s 10ms/step - loss: 0.0042 - val_loss: 0.0042\n",
      "Epoch 8/15\n",
      "197/197 [==============================] - 2s 10ms/step - loss: 0.0041 - val_loss: 0.0043\n",
      "Epoch 9/15\n",
      "197/197 [==============================] - 2s 9ms/step - loss: 0.0040 - val_loss: 0.0041\n",
      "Epoch 10/15\n",
      "197/197 [==============================] - 2s 9ms/step - loss: 0.0041 - val_loss: 0.0041\n",
      "Epoch 11/15\n",
      "197/197 [==============================] - 2s 9ms/step - loss: 0.0040 - val_loss: 0.0045\n",
      "Epoch 12/15\n",
      "197/197 [==============================] - 2s 9ms/step - loss: 0.0040 - val_loss: 0.0042\n",
      "Epoch 13/15\n",
      "197/197 [==============================] - 2s 8ms/step - loss: 0.0039 - val_loss: 0.0041\n",
      "Epoch 14/15\n",
      "197/197 [==============================] - 2s 8ms/step - loss: 0.0039 - val_loss: 0.0041\n",
      "Epoch 15/15\n",
      "197/197 [==============================] - 2s 8ms/step - loss: 0.0039 - val_loss: 0.0038\n"
     ]
    },
    {
     "data": {
      "text/plain": [
       "<keras.callbacks.History at 0x1b25cad8a30>"
      ]
     },
     "execution_count": 6,
     "metadata": {},
     "output_type": "execute_result"
    }
   ],
   "source": [
    "model.fit(x_train, y_train, validation_split=0.1, batch_size=32, epochs=15)"
   ]
  },
  {
   "cell_type": "code",
   "execution_count": 7,
   "id": "21b79fa7",
   "metadata": {},
   "outputs": [
    {
     "name": "stdout",
     "output_type": "stream",
     "text": [
      "94/94 [==============================] - 0s 4ms/step - loss: 0.0038\n"
     ]
    },
    {
     "data": {
      "text/plain": [
       "0.003760039107874036"
      ]
     },
     "execution_count": 7,
     "metadata": {},
     "output_type": "execute_result"
    }
   ],
   "source": [
    "model.evaluate(x_test, y_test)"
   ]
  },
  {
   "cell_type": "code",
   "execution_count": 9,
   "id": "3daf5a21",
   "metadata": {
    "scrolled": true
   },
   "outputs": [
    {
     "name": "stdout",
     "output_type": "stream",
     "text": [
      "Record 1 Prediction: [0.43441567]\n",
      "Record 2 Prediction: [0.10477256]\n",
      "Record 3 Prediction: [0.52015555]\n",
      "Record 4 Prediction: [0.32974413]\n",
      "Record 5 Prediction: [-0.31204587]\n"
     ]
    },
    {
     "data": {
      "image/png": "[encoded data removed]",
      "text/plain": [
       "<Figure size 432x288 with 1 Axes>"
      ]
     },
     "metadata": {
      "needs_background": "light"
     },
     "output_type": "display_data"
    }
   ],
   "source": [
    "pred = model.predict(x_predictions)\n",
    "for p in range(len(pred)):\n",
    "    print(f'Record {p + 1} Prediction: {pred[p]}')\n",
    "plt.scatter([i for i in range(1, len(x_predictions) + 1)], pred)\n",
    "plt.xticks(range(1, len(x_predictions) + 1))\n",
    "plt.show()"
   ]
  },
  {
   "cell_type": "code",
   "execution_count": 10,
   "id": "43de84c9",
   "metadata": {},
   "outputs": [
    {
     "name": "stdout",
     "output_type": "stream",
     "text": [
      "Record 1 Prediction: [0.39919338, 0.37437972, 0.38531363, 0.43371925, 0.49966842]\n",
      "Record 2 Prediction: [0.07614626, 0.098230995, 0.18509032, 0.30232885, 0.40701103]\n",
      "Record 3 Prediction: [0.5604709, 0.56973076, 0.543557, 0.4885121, 0.4228699]\n",
      "Record 4 Prediction: [0.27496293, 0.24239174, 0.25239366, 0.29637352, 0.35382888]\n",
      "Record 5 Prediction: [-0.49734426, -0.67199934, -0.7461647, -0.7311173, -0.6620852]\n"
     ]
    },
    {
     "data": {
      "image/png": "[encoded data removed]",
      "text/plain": [
       "<Figure size 432x288 with 1 Axes>"
      ]
     },
     "metadata": {
      "needs_background": "light"
     },
     "output_type": "display_data"
    }
   ],
   "source": [
    "all_predicted = []\n",
    "\n",
    "for p in range(len(pred)):\n",
    "    predicted = []\n",
    "    \n",
    "    base = x_predictions[p, 0:49]\n",
    "    base = np.append(base, pred[p]).reshape(1, -1)\n",
    "    \n",
    "    new_pred = model.predict(base)\n",
    "    predicted.append(new_pred[0][0])\n",
    "    base = np.append(base, new_pred)\n",
    "    \n",
    "    for i in range(4):\n",
    "        base = base[1:51]\n",
    "        new_pred = model.predict(base.reshape(1, -1))\n",
    "        predicted.append(new_pred[0][0])\n",
    "        base = np.append(base, new_pred)\n",
    "    \n",
    "    all_predicted.append(predicted)\n",
    "\n",
    "for i in range(len(all_predicted)):\n",
    "    print(f'Record {i + 1} Prediction: {all_predicted[i]}')\n",
    "timesteps = [51, 52, 53, 54, 55]\n",
    "plt.plot(timesteps, all_predicted)\n",
    "plt.xticks(range(51, 56))\n",
    "plt.legend(['Record 1', 'Record 2', 'Record 3', 'Record 4', 'Record 5'])\n",
    "\n",
    "plt.show()\n",
    "\n",
    "        "
   ]
  },
  {
   "cell_type": "code",
   "execution_count": 11,
   "id": "cfdebf31",
   "metadata": {},
   "outputs": [],
   "source": [
    "x_train2 = data[0:7000, 0:46]\n",
    "y_train2 = data[0:7000, 46:51]\n",
    "\n",
    "x_test2 = data[7000:10000, 0:46]\n",
    "y_test2 = data[7000:10000, 46:51]\n",
    "\n",
    "x_predictions2 = data[7000:7005, 0:46]\n",
    "y_predictions2 = data[7000:7005, 46:51]"
   ]
  },
  {
   "cell_type": "code",
   "execution_count": 12,
   "id": "7054358e",
   "metadata": {},
   "outputs": [
    {
     "name": "stdout",
     "output_type": "stream",
     "text": [
      "Model: \"sequential_1\"\n",
      "_________________________________________________________________\n",
      " Layer (type)                Output Shape              Param #   \n",
      "=================================================================\n",
      " gru_2 (GRU)                 (7000, 46, 15)            810       \n",
      "                                                                 \n",
      " gru_3 (GRU)                 (7000, 15)                1440      \n",
      "                                                                 \n",
      " dense_1 (Dense)             (7000, 5)                 80        \n",
      "                                                                 \n",
      "=================================================================\n",
      "Total params: 2,330\n",
      "Trainable params: 2,330\n",
      "Non-trainable params: 0\n",
      "_________________________________________________________________\n"
     ]
    }
   ],
   "source": [
    "model2 = Sequential()\n",
    "model2.add(GRU(15, return_sequences=True))\n",
    "model2.add(GRU(15))\n",
    "model2.add(Dense(5, activation='linear'))\n",
    "model2.compile(loss='mse', optimizer='adam')\n",
    "model2.build(x_train2.shape)\n",
    "model2.summary()"
   ]
  },
  {
   "cell_type": "code",
   "execution_count": 13,
   "id": "988e69e6",
   "metadata": {
    "scrolled": true
   },
   "outputs": [
    {
     "name": "stdout",
     "output_type": "stream",
     "text": [
      "Epoch 1/15\n",
      "197/197 [==============================] - 4s 10ms/step - loss: 0.0781 - val_loss: 0.0557\n",
      "Epoch 2/15\n",
      "197/197 [==============================] - 2s 8ms/step - loss: 0.0510 - val_loss: 0.0479\n",
      "Epoch 3/15\n",
      "197/197 [==============================] - 2s 8ms/step - loss: 0.0425 - val_loss: 0.0388\n",
      "Epoch 4/15\n",
      "197/197 [==============================] - 2s 8ms/step - loss: 0.0328 - val_loss: 0.0284\n",
      "Epoch 5/15\n",
      "197/197 [==============================] - 2s 9ms/step - loss: 0.0254 - val_loss: 0.0247\n",
      "Epoch 6/15\n",
      "197/197 [==============================] - 2s 8ms/step - loss: 0.0211 - val_loss: 0.0206\n",
      "Epoch 7/15\n",
      "197/197 [==============================] - 2s 8ms/step - loss: 0.0190 - val_loss: 0.0193\n",
      "Epoch 8/15\n",
      "197/197 [==============================] - 2s 8ms/step - loss: 0.0178 - val_loss: 0.0183\n",
      "Epoch 9/15\n",
      "197/197 [==============================] - 2s 8ms/step - loss: 0.0169 - val_loss: 0.0166\n",
      "Epoch 10/15\n",
      "197/197 [==============================] - 2s 8ms/step - loss: 0.0157 - val_loss: 0.0158\n",
      "Epoch 11/15\n",
      "197/197 [==============================] - 2s 8ms/step - loss: 0.0151 - val_loss: 0.0163\n",
      "Epoch 12/15\n",
      "197/197 [==============================] - 2s 8ms/step - loss: 0.0147 - val_loss: 0.0164\n",
      "Epoch 13/15\n",
      "197/197 [==============================] - 2s 9ms/step - loss: 0.0141 - val_loss: 0.0137\n",
      "Epoch 14/15\n",
      "197/197 [==============================] - 2s 8ms/step - loss: 0.0138 - val_loss: 0.0132\n",
      "Epoch 15/15\n",
      "197/197 [==============================] - 2s 8ms/step - loss: 0.0133 - val_loss: 0.0131\n"
     ]
    },
    {
     "data": {
      "text/plain": [
       "<keras.callbacks.History at 0x1b25c6a7f70>"
      ]
     },
     "execution_count": 13,
     "metadata": {},
     "output_type": "execute_result"
    }
   ],
   "source": [
    "model2.fit(x_train2, y_train2, validation_split=0.1, batch_size=32, epochs=15)"
   ]
  },
  {
   "cell_type": "code",
   "execution_count": 14,
   "id": "03a90b53",
   "metadata": {},
   "outputs": [
    {
     "name": "stdout",
     "output_type": "stream",
     "text": [
      "94/94 [==============================] - 0s 4ms/step - loss: 0.0126\n"
     ]
    },
    {
     "data": {
      "text/plain": [
       "0.012641871348023415"
      ]
     },
     "execution_count": 14,
     "metadata": {},
     "output_type": "execute_result"
    }
   ],
   "source": [
    "model2.evaluate(x_test2, y_test2)"
   ]
  },
  {
   "cell_type": "code",
   "execution_count": 16,
   "id": "53642171",
   "metadata": {
    "scrolled": true
   },
   "outputs": [
    {
     "name": "stdout",
     "output_type": "stream",
     "text": [
      "Record 1 Prediction: [0.3051544  0.37476015 0.32063717 0.25540918 0.09806693]\n",
      "Record 2 Prediction: [0.3410113  0.37864524 0.36684683 0.2968223  0.29830685]\n",
      "Record 3 Prediction: [0.36510697 0.4072667  0.42187646 0.38766915 0.3438771 ]\n",
      "Record 4 Prediction: [0.48795658 0.43346316 0.3621942  0.28713852 0.2766992 ]\n",
      "Record 5 Prediction: [ 0.28487846  0.161779   -0.05156094 -0.19380653 -0.35812792]\n"
     ]
    },
    {
     "data": {
      "image/png": "[encoded data removed]",
      "text/plain": [
       "<Figure size 432x288 with 1 Axes>"
      ]
     },
     "metadata": {
      "needs_background": "light"
     },
     "output_type": "display_data"
    }
   ],
   "source": [
    "pred2 = model2.predict(x_predictions2)\n",
    "for p in range(len(pred2)):\n",
    "    print(f'Record {p + 1} Prediction: {pred2[p]}')\n",
    "    \n",
    "plt.plot([i for i in range(1, len(x_predictions2) + 1)], pred2)\n",
    "plt.xticks(range(1, len(x_predictions2) + 1))\n",
    "plt.legend(['Record 1', 'Record 2', 'Record 3', 'Record 4', 'Record 5'])\n",
    "plt.show()"
   ]
  },
  {
   "cell_type": "code",
   "execution_count": 17,
   "id": "72710269",
   "metadata": {},
   "outputs": [],
   "source": [
    "# You will need to adjust X and Y. Consider the following:\n",
    "# X[0 - 46]\n",
    "# Y1 = X[1-5], Y2 = X[2-6], Y3 = X[3-7] .... Ylast = X[47-51]\n",
    "step_count = 51 - 5 # which implies X[0:46]\n",
    "Y_outputs = 5\n",
    "Y_seq = np.empty( (10000, step_count, Y_outputs) )\n",
    "for next in range(1, Y_outputs - 1):\n",
    "    # for all rows and for all time steps, set Y output vector\n",
    "    Y_seq[ :, :, next-1 ] = data[ :, next:next+step_count, 0]"
   ]
  },
  {
   "cell_type": "code",
   "execution_count": 18,
   "id": "8fea009b",
   "metadata": {},
   "outputs": [],
   "source": [
    "x_train3 = data[0:7000, 0:46]\n",
    "y_train3 = Y_seq[0:7000]\n",
    "\n",
    "x_test3 = data[7000:10000, 0:46]\n",
    "y_test3 = Y_seq[7000:10000]\n",
    "\n",
    "x_predictions3 = data[7000:7005, 0:46]\n",
    "y_predictions3 = Y_seq[7000:7005]"
   ]
  },
  {
   "cell_type": "code",
   "execution_count": 19,
   "id": "3a822fdb",
   "metadata": {},
   "outputs": [
    {
     "name": "stdout",
     "output_type": "stream",
     "text": [
      "Model: \"sequential_2\"\n",
      "_________________________________________________________________\n",
      " Layer (type)                Output Shape              Param #   \n",
      "=================================================================\n",
      " gru_4 (GRU)                 (7000, 46, 15)            810       \n",
      "                                                                 \n",
      " gru_5 (GRU)                 (7000, 46, 15)            1440      \n",
      "                                                                 \n",
      " dense_2 (Dense)             (7000, 46, 5)             80        \n",
      "                                                                 \n",
      "=================================================================\n",
      "Total params: 2,330\n",
      "Trainable params: 2,330\n",
      "Non-trainable params: 0\n",
      "_________________________________________________________________\n"
     ]
    }
   ],
   "source": [
    "model3 = Sequential()\n",
    "model3.add(GRU(15, return_sequences=True))\n",
    "model3.add(GRU(15, return_sequences=True))\n",
    "model3.add(Dense(5, activation='linear'))\n",
    "model3.compile(loss='mse', optimizer='adam')\n",
    "model3.build(x_train3.shape)\n",
    "model3.summary()"
   ]
  },
  {
   "cell_type": "code",
   "execution_count": 20,
   "id": "95c8d9c5",
   "metadata": {
    "scrolled": true
   },
   "outputs": [
    {
     "name": "stdout",
     "output_type": "stream",
     "text": [
      "Epoch 1/15\n",
      "197/197 [==============================] - 4s 11ms/step - loss: 0.0474 - val_loss: 0.0238\n",
      "Epoch 2/15\n",
      "197/197 [==============================] - 2s 8ms/step - loss: 0.0154 - val_loss: 0.0114\n",
      "Epoch 3/15\n",
      "197/197 [==============================] - 2s 8ms/step - loss: 0.0106 - val_loss: 0.0101\n",
      "Epoch 4/15\n",
      "197/197 [==============================] - 2s 9ms/step - loss: 0.0099 - val_loss: 0.0096\n",
      "Epoch 5/15\n",
      "197/197 [==============================] - 2s 9ms/step - loss: 0.0095 - val_loss: 0.0091\n",
      "Epoch 6/15\n",
      "197/197 [==============================] - 2s 8ms/step - loss: 0.0091 - val_loss: 0.0089\n",
      "Epoch 7/15\n",
      "197/197 [==============================] - 2s 8ms/step - loss: 0.0089 - val_loss: 0.0087\n",
      "Epoch 8/15\n",
      "197/197 [==============================] - 2s 8ms/step - loss: 0.0088 - val_loss: 0.0086\n",
      "Epoch 9/15\n",
      "197/197 [==============================] - 2s 8ms/step - loss: 0.0087 - val_loss: 0.0085\n",
      "Epoch 10/15\n",
      "197/197 [==============================] - 2s 8ms/step - loss: 0.0086 - val_loss: 0.0084\n",
      "Epoch 11/15\n",
      "197/197 [==============================] - 2s 8ms/step - loss: 0.0085 - val_loss: 0.0083\n",
      "Epoch 12/15\n",
      "197/197 [==============================] - 2s 8ms/step - loss: 0.0084 - val_loss: 0.0083\n",
      "Epoch 13/15\n",
      "197/197 [==============================] - 2s 8ms/step - loss: 0.0084 - val_loss: 0.0083\n",
      "Epoch 14/15\n",
      "197/197 [==============================] - 2s 8ms/step - loss: 0.0083 - val_loss: 0.0082\n",
      "Epoch 15/15\n",
      "197/197 [==============================] - 2s 9ms/step - loss: 0.0082 - val_loss: 0.0081\n"
     ]
    },
    {
     "data": {
      "text/plain": [
       "<keras.callbacks.History at 0x1b418607a30>"
      ]
     },
     "execution_count": 20,
     "metadata": {},
     "output_type": "execute_result"
    }
   ],
   "source": [
    "model3.fit(x_train3, y_train3, validation_split=0.1, batch_size=32, epochs=15)"
   ]
  },
  {
   "cell_type": "code",
   "execution_count": 21,
   "id": "547bda0b",
   "metadata": {},
   "outputs": [
    {
     "name": "stdout",
     "output_type": "stream",
     "text": [
      "94/94 [==============================] - 0s 4ms/step - loss: 0.0082\n"
     ]
    },
    {
     "data": {
      "text/plain": [
       "0.008189008571207523"
      ]
     },
     "execution_count": 21,
     "metadata": {},
     "output_type": "execute_result"
    }
   ],
   "source": [
    "model3.evaluate(x_test3, y_test3)"
   ]
  },
  {
   "cell_type": "code",
   "execution_count": 22,
   "id": "c57438b8",
   "metadata": {
    "scrolled": true
   },
   "outputs": [
    {
     "name": "stdout",
     "output_type": "stream",
     "text": [
      "Record 1 Prediction: [0.34568417]\n",
      "Record 2 Prediction: [0.36955565]\n",
      "Record 3 Prediction: [0.36983392]\n",
      "Record 4 Prediction: [0.54323363]\n",
      "Record 5 Prediction: [0.32459334]\n"
     ]
    },
    {
     "data": {
      "image/png": "[encoded data removed]",
      "text/plain": [
       "<Figure size 432x288 with 1 Axes>"
      ]
     },
     "metadata": {
      "needs_background": "light"
     },
     "output_type": "display_data"
    }
   ],
   "source": [
    "pred3 = model.predict(x_predictions3)\n",
    "for p in range(len(pred3)):\n",
    "    print(f'Record {p + 1} Prediction: {pred3[p]}')\n",
    "plt.scatter([i for i in range(1, len(x_predictions3) + 1)], pred3)\n",
    "plt.xticks(range(1, len(x_predictions3) + 1))\n",
    "\n",
    "plt.show()"
   ]
  }
 ],
 "metadata": {
  "kernelspec": {
   "display_name": "Python 3 (ipykernel)",
   "language": "python",
   "name": "python3"
  },
  "language_info": {
   "codemirror_mode": {
    "name": "ipython",
    "version": 3
   },
   "file_extension": ".py",
   "mimetype": "text/x-python",
   "name": "python",
   "nbconvert_exporter": "python",
   "pygments_lexer": "ipython3",
   "version": "3.9.0"
  }
 },
 "nbformat": 4,
 "nbformat_minor": 5
}
