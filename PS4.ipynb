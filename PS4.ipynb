{
 "cells": [
  {
   "cell_type": "markdown",
   "id": "727f7d1b",
   "metadata": {},
   "source": [
    "## Imports"
   ]
  },
  {
   "cell_type": "code",
   "execution_count": 85,
   "id": "e76daa59",
   "metadata": {},
   "outputs": [],
   "source": [
    "import tensorflow as tf\n",
    "import pandas as pd\n",
    "import numpy as np\n",
    "\n",
    "from keras.layers import Dense, SimpleRNN, Flatten, Conv2D\n",
    "from keras import Sequential"
   ]
  },
  {
   "cell_type": "markdown",
   "id": "36d8eb3b",
   "metadata": {},
   "source": [
    "## Data"
   ]
  },
  {
   "cell_type": "code",
   "execution_count": 119,
   "id": "065fae75",
   "metadata": {},
   "outputs": [],
   "source": [
    "data = pd.read_csv('E:\\Downloads\\PS4data\\data.txt', delimiter=' ', header=None)"
   ]
  },
  {
   "cell_type": "code",
   "execution_count": 122,
   "id": "b0545476",
   "metadata": {},
   "outputs": [],
   "source": [
    "data = data.values.reshape(10000, 51, 1)"
   ]
  },
  {
   "cell_type": "markdown",
   "id": "cf39c23b",
   "metadata": {},
   "source": [
    "## Slicing the data into 70/30"
   ]
  },
  {
   "cell_type": "code",
   "execution_count": 163,
   "id": "3c478890",
   "metadata": {},
   "outputs": [],
   "source": [
    "x_train = data[0:7000, 0:50]\n",
    "y_train = data[0:7000, -1]\n",
    "\n",
    "x_test = data[7000:10000, 0:50]\n",
    "y_test = data[7000:10000, -1]\n",
    "\n",
    "x_predictions = data[7000:7005, 0:50]\n",
    "y_predictions = data[7000:7005, -1]"
   ]
  },
  {
   "cell_type": "code",
   "execution_count": 152,
   "id": "a0934758",
   "metadata": {},
   "outputs": [
    {
     "data": {
      "text/plain": [
       "(7000, 50, 1)"
      ]
     },
     "execution_count": 152,
     "metadata": {},
     "output_type": "execute_result"
    }
   ],
   "source": [
    "x_train.shape"
   ]
  },
  {
   "cell_type": "code",
   "execution_count": 154,
   "id": "e75b2867",
   "metadata": {},
   "outputs": [
    {
     "data": {
      "text/plain": [
       "(7000, 1)"
      ]
     },
     "execution_count": 154,
     "metadata": {},
     "output_type": "execute_result"
    }
   ],
   "source": [
    "y_train.shape"
   ]
  },
  {
   "cell_type": "code",
   "execution_count": 153,
   "id": "f68e45d4",
   "metadata": {},
   "outputs": [
    {
     "data": {
      "text/plain": [
       "(3000, 50, 1)"
      ]
     },
     "execution_count": 153,
     "metadata": {},
     "output_type": "execute_result"
    }
   ],
   "source": [
    "x_test.shape"
   ]
  },
  {
   "cell_type": "code",
   "execution_count": 155,
   "id": "ae22ca20",
   "metadata": {},
   "outputs": [
    {
     "data": {
      "text/plain": [
       "(3000, 1)"
      ]
     },
     "execution_count": 155,
     "metadata": {},
     "output_type": "execute_result"
    }
   ],
   "source": [
    "y_test.shape"
   ]
  },
  {
   "cell_type": "markdown",
   "id": "6eb457bb",
   "metadata": {},
   "source": [
    "## Loss Function\n",
    "Since this is a regression task, linear is the best option to include negative numbers as well."
   ]
  },
  {
   "cell_type": "code",
   "execution_count": 159,
   "id": "dd8bf355",
   "metadata": {},
   "outputs": [
    {
     "name": "stdout",
     "output_type": "stream",
     "text": [
      "Model: \"sequential_29\"\n",
      "_________________________________________________________________\n",
      " Layer (type)                Output Shape              Param #   \n",
      "=================================================================\n",
      " simple_rnn_57 (SimpleRNN)   (7000, 50, 15)            255       \n",
      "                                                                 \n",
      " simple_rnn_58 (SimpleRNN)   (7000, 50, 15)            465       \n",
      "                                                                 \n",
      " flatten_20 (Flatten)        (7000, 750)               0         \n",
      "                                                                 \n",
      " dense_21 (Dense)            (7000, 1)                 751       \n",
      "                                                                 \n",
      "=================================================================\n",
      "Total params: 1,471\n",
      "Trainable params: 1,471\n",
      "Non-trainable params: 0\n",
      "_________________________________________________________________\n",
      "Epoch 1/15\n",
      "197/197 [==============================] - 14s 69ms/step - loss: 0.0367 - val_loss: 0.0130\n",
      "Epoch 2/15\n",
      "197/197 [==============================] - 14s 70ms/step - loss: 0.0097 - val_loss: 0.0066\n",
      "Epoch 3/15\n",
      "197/197 [==============================] - 14s 69ms/step - loss: 0.0058 - val_loss: 0.0045\n",
      "Epoch 4/15\n",
      "197/197 [==============================] - 13s 68ms/step - loss: 0.0045 - val_loss: 0.0039\n",
      "Epoch 5/15\n",
      "197/197 [==============================] - 14s 71ms/step - loss: 0.0041 - val_loss: 0.0035\n",
      "Epoch 6/15\n",
      "197/197 [==============================] - 14s 71ms/step - loss: 0.0037 - val_loss: 0.0040\n",
      "Epoch 7/15\n",
      "197/197 [==============================] - 14s 69ms/step - loss: 0.0035 - val_loss: 0.0032\n",
      "Epoch 8/15\n",
      "197/197 [==============================] - 14s 69ms/step - loss: 0.0033 - val_loss: 0.0033\n",
      "Epoch 9/15\n",
      "197/197 [==============================] - 14s 70ms/step - loss: 0.0033 - val_loss: 0.0030\n",
      "Epoch 10/15\n",
      "197/197 [==============================] - 14s 69ms/step - loss: 0.0034 - val_loss: 0.0033\n",
      "Epoch 11/15\n",
      "197/197 [==============================] - 13s 68ms/step - loss: 0.0032 - val_loss: 0.0033\n",
      "Epoch 12/15\n",
      "197/197 [==============================] - 14s 70ms/step - loss: 0.0034 - val_loss: 0.0031\n",
      "Epoch 13/15\n",
      "197/197 [==============================] - 14s 70ms/step - loss: 0.0034 - val_loss: 0.0031\n",
      "Epoch 14/15\n",
      "197/197 [==============================] - 15s 74ms/step - loss: 0.0033 - val_loss: 0.0034\n",
      "Epoch 15/15\n",
      "197/197 [==============================] - 13s 68ms/step - loss: 0.0033 - val_loss: 0.0030\n"
     ]
    },
    {
     "data": {
      "text/plain": [
       "<keras.callbacks.History at 0x2372d0e45b0>"
      ]
     },
     "execution_count": 159,
     "metadata": {},
     "output_type": "execute_result"
    }
   ],
   "source": [
    "model = Sequential()\n",
    "model.add(SimpleRNN(15, return_sequences=True))\n",
    "model.add(SimpleRNN(15, return_sequences=True))\n",
    "model.add(Flatten(input_shape=x_train.shape))\n",
    "model.add(Dense(1, activation='linear'))\n",
    "model.compile(loss='mse', optimizer='adam')\n",
    "model.build(x_train.shape)\n",
    "model.summary()\n",
    "model.fit(x_train, y_train, validation_split=0.1, batch_size=32, epochs=15)"
   ]
  },
  {
   "cell_type": "code",
   "execution_count": 160,
   "id": "21b79fa7",
   "metadata": {},
   "outputs": [
    {
     "name": "stdout",
     "output_type": "stream",
     "text": [
      "94/94 [==============================] - 1s 12ms/step - loss: 0.0029\n"
     ]
    },
    {
     "data": {
      "text/plain": [
       "0.0028648115694522858"
      ]
     },
     "execution_count": 160,
     "metadata": {},
     "output_type": "execute_result"
    }
   ],
   "source": [
    "model.evaluate(x_test, y_test)"
   ]
  },
  {
   "cell_type": "code",
   "execution_count": 167,
   "id": "3daf5a21",
   "metadata": {},
   "outputs": [
    {
     "name": "stdout",
     "output_type": "stream",
     "text": [
      "Record 1 Prediction: [0.4269741]\n",
      "Record 2 Prediction: [0.16771555]\n",
      "Record 3 Prediction: [0.5630576]\n",
      "Record 4 Prediction: [0.30652252]\n",
      "Record 5 Prediction: [-0.3049192]\n"
     ]
    }
   ],
   "source": [
    "pred = model.predict(x_predictions)\n",
    "for p in range(len(pred)):\n",
    "    print(f'Record {p + 1} Prediction: {pred[p]}')"
   ]
  }
 ],
 "metadata": {
  "kernelspec": {
   "display_name": "Python 3 (ipykernel)",
   "language": "python",
   "name": "python3"
  },
  "language_info": {
   "codemirror_mode": {
    "name": "ipython",
    "version": 3
   },
   "file_extension": ".py",
   "mimetype": "text/x-python",
   "name": "python",
   "nbconvert_exporter": "python",
   "pygments_lexer": "ipython3",
   "version": "3.9.0"
  }
 },
 "nbformat": 4,
 "nbformat_minor": 5
}
