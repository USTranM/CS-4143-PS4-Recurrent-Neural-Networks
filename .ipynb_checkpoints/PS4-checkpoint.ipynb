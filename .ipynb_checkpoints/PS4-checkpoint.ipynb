{
 "cells": [
  {
   "cell_type": "markdown",
   "id": "727f7d1b",
   "metadata": {},
   "source": [
    "## Imports"
   ]
  },
  {
   "cell_type": "code",
   "execution_count": 82,
   "id": "e76daa59",
   "metadata": {},
   "outputs": [],
   "source": [
    "import tensorflow as tf\n",
    "import pandas as pd\n",
    "import numpy as np\n",
    "\n",
    "from keras.layers import Dense, SimpleRNN, Flatten, Conv2D, LSTM, GRU\n",
    "from keras import Sequential\n",
    "\n",
    "import matplotlib.pyplot as plt"
   ]
  },
  {
   "cell_type": "markdown",
   "id": "36d8eb3b",
   "metadata": {},
   "source": [
    "## Data"
   ]
  },
  {
   "cell_type": "code",
   "execution_count": 2,
   "id": "065fae75",
   "metadata": {},
   "outputs": [],
   "source": [
    "data = pd.read_csv('E:\\Downloads\\PS4data\\data.txt', delimiter=' ', header=None)"
   ]
  },
  {
   "cell_type": "code",
   "execution_count": 3,
   "id": "b0545476",
   "metadata": {},
   "outputs": [],
   "source": [
    "data = data.values.reshape(10000, 51, 1)"
   ]
  },
  {
   "cell_type": "markdown",
   "id": "cf39c23b",
   "metadata": {},
   "source": [
    "## Slicing the data into 70/30"
   ]
  },
  {
   "cell_type": "code",
   "execution_count": 4,
   "id": "3c478890",
   "metadata": {},
   "outputs": [],
   "source": [
    "x_train = data[0:7000, 0:50]\n",
    "y_train = data[0:7000, -1]\n",
    "\n",
    "x_test = data[7000:10000, 0:50]\n",
    "y_test = data[7000:10000, -1]\n",
    "\n",
    "x_predictions = data[7000:7005, 0:50]\n",
    "y_predictions = data[7000:7005, -1]"
   ]
  },
  {
   "cell_type": "markdown",
   "id": "6eb457bb",
   "metadata": {},
   "source": [
    "## Loss Function\n",
    "Since this is a regression task, linear is the best option to include negative numbers as well."
   ]
  },
  {
   "cell_type": "code",
   "execution_count": 28,
   "id": "dd8bf355",
   "metadata": {},
   "outputs": [
    {
     "name": "stdout",
     "output_type": "stream",
     "text": [
      "Model: \"sequential_4\"\n",
      "_________________________________________________________________\n",
      " Layer (type)                Output Shape              Param #   \n",
      "=================================================================\n",
      " simple_rnn_8 (SimpleRNN)    (7000, 50, 15)            255       \n",
      "                                                                 \n",
      " simple_rnn_9 (SimpleRNN)    (7000, 15)                465       \n",
      "                                                                 \n",
      " dense_4 (Dense)             (7000, 1)                 16        \n",
      "                                                                 \n",
      "=================================================================\n",
      "Total params: 736\n",
      "Trainable params: 736\n",
      "Non-trainable params: 0\n",
      "_________________________________________________________________\n"
     ]
    }
   ],
   "source": [
    "model = Sequential()\n",
    "model.add(SimpleRNN(15, return_sequences=True))\n",
    "model.add(SimpleRNN(15))\n",
    "model.add(Dense(1, activation='linear'))\n",
    "model.compile(loss='mse', optimizer='adam')\n",
    "model.build(x_train.shape)\n",
    "model.summary()"
   ]
  },
  {
   "cell_type": "code",
   "execution_count": 29,
   "id": "18bef8e4",
   "metadata": {},
   "outputs": [
    {
     "name": "stdout",
     "output_type": "stream",
     "text": [
      "Epoch 1/15\n",
      "197/197 [==============================] - 13s 64ms/step - loss: 0.0446 - val_loss: 0.0118\n",
      "Epoch 2/15\n",
      "197/197 [==============================] - 12s 63ms/step - loss: 0.0087 - val_loss: 0.0062\n",
      "Epoch 3/15\n",
      "197/197 [==============================] - 13s 64ms/step - loss: 0.0058 - val_loss: 0.0053\n",
      "Epoch 4/15\n",
      "197/197 [==============================] - 13s 64ms/step - loss: 0.0047 - val_loss: 0.0042\n",
      "Epoch 5/15\n",
      "197/197 [==============================] - 13s 65ms/step - loss: 0.0041 - val_loss: 0.0042\n",
      "Epoch 6/15\n",
      "197/197 [==============================] - 13s 64ms/step - loss: 0.0038 - val_loss: 0.0038\n",
      "Epoch 7/15\n",
      "197/197 [==============================] - 12s 63ms/step - loss: 0.0035 - val_loss: 0.0036\n",
      "Epoch 8/15\n",
      "197/197 [==============================] - 13s 64ms/step - loss: 0.0034 - val_loss: 0.0033\n",
      "Epoch 9/15\n",
      "197/197 [==============================] - 13s 64ms/step - loss: 0.0032 - val_loss: 0.0031\n",
      "Epoch 10/15\n",
      "197/197 [==============================] - 13s 64ms/step - loss: 0.0030 - val_loss: 0.0029\n",
      "Epoch 11/15\n",
      "197/197 [==============================] - 13s 64ms/step - loss: 0.0030 - val_loss: 0.0028\n",
      "Epoch 12/15\n",
      "197/197 [==============================] - 13s 65ms/step - loss: 0.0029 - val_loss: 0.0026\n",
      "Epoch 13/15\n",
      "197/197 [==============================] - 13s 66ms/step - loss: 0.0028 - val_loss: 0.0027\n",
      "Epoch 14/15\n",
      "197/197 [==============================] - 13s 64ms/step - loss: 0.0027 - val_loss: 0.0026\n",
      "Epoch 15/15\n",
      "197/197 [==============================] - 12s 63ms/step - loss: 0.0027 - val_loss: 0.0027\n"
     ]
    },
    {
     "data": {
      "text/plain": [
       "<keras.callbacks.History at 0x2529fd83cd0>"
      ]
     },
     "execution_count": 29,
     "metadata": {},
     "output_type": "execute_result"
    }
   ],
   "source": [
    "model.fit(x_train, y_train, validation_split=0.1, batch_size=32, epochs=15)"
   ]
  },
  {
   "cell_type": "code",
   "execution_count": 30,
   "id": "21b79fa7",
   "metadata": {},
   "outputs": [
    {
     "name": "stdout",
     "output_type": "stream",
     "text": [
      "94/94 [==============================] - 1s 12ms/step - loss: 0.0028\n"
     ]
    },
    {
     "data": {
      "text/plain": [
       "0.0028145266696810722"
      ]
     },
     "execution_count": 30,
     "metadata": {},
     "output_type": "execute_result"
    }
   ],
   "source": [
    "model.evaluate(x_test, y_test)"
   ]
  },
  {
   "cell_type": "code",
   "execution_count": 102,
   "id": "3daf5a21",
   "metadata": {},
   "outputs": [
    {
     "name": "stdout",
     "output_type": "stream",
     "text": [
      "Record 1 Prediction: [0.41301316]\n",
      "Record 2 Prediction: [0.17574209]\n",
      "Record 3 Prediction: [0.49299684]\n",
      "Record 4 Prediction: [0.31377333]\n",
      "Record 5 Prediction: [-0.3230716]\n"
     ]
    },
    {
     "data": {
      "image/png": "[encoded data removed]",
      "text/plain": [
       "<Figure size 432x288 with 1 Axes>"
      ]
     },
     "metadata": {
      "needs_background": "light"
     },
     "output_type": "display_data"
    }
   ],
   "source": [
    "pred = model.predict(x_predictions)\n",
    "for p in range(len(pred)):\n",
    "    print(f'Record {p + 1} Prediction: {pred[p]}')\n",
    "plt.scatter([i for i in range(1, len(x_predictions3) + 1)], pred)\n",
    "plt.xticks(range(1, len(x_predictions) + 1))\n",
    "plt.show()"
   ]
  },
  {
   "cell_type": "code",
   "execution_count": 86,
   "id": "257caed5",
   "metadata": {},
   "outputs": [
    {
     "name": "stdout",
     "output_type": "stream",
     "text": [
      "Record 1 Prediction: [0.3660512, 0.29413128, 0.25006026, 0.24427712, 0.30138397]\n",
      "Record 2 Prediction: [0.22218844, 0.34042934, 0.5140207, 0.64539176, 0.68125445]\n",
      "Record 3 Prediction: [0.49684626, 0.48496646, 0.4170324, 0.33170256, 0.20549724]\n",
      "Record 4 Prediction: [0.2603828, 0.22666597, 0.21725163, 0.23822409, 0.2675517]\n",
      "Record 5 Prediction: [-0.46106613, -0.5684507, -0.5570146, -0.4535998, -0.36353832]\n"
     ]
    },
    {
     "data": {
      "image/png": "[encoded data removed]",
      "text/plain": [
       "<Figure size 432x288 with 1 Axes>"
      ]
     },
     "metadata": {
      "needs_background": "light"
     },
     "output_type": "display_data"
    }
   ],
   "source": [
    "all_predicted = []\n",
    "\n",
    "for p in range(len(pred)):\n",
    "    predicted = []\n",
    "    \n",
    "    base = x_predictions[p, 0:49]\n",
    "    base = np.append(base, pred[p]).reshape(1, -1)\n",
    "    \n",
    "    new_pred = model.predict(base)\n",
    "    predicted.append(new_pred[0][0])\n",
    "    base = np.append(base, new_pred)\n",
    "    \n",
    "    for i in range(4):\n",
    "        base = base[1:51]\n",
    "        new_pred = model.predict(base.reshape(1, -1))\n",
    "        predicted.append(new_pred[0][0])\n",
    "        base = np.append(base, new_pred)\n",
    "    \n",
    "    all_predicted.append(predicted)\n",
    "\n",
    "for i in range(len(all_predicted)):\n",
    "    print(f'Record {i + 1} Prediction: {all_predicted[i]}')\n",
    "timesteps = [51, 52, 53, 54, 55]\n",
    "plt.plot(timesteps, all_predicted)\n",
    "plt.xticks(range(51, 56))\n",
    "plt.legend(['Record 1', 'Record 2', 'Record 3', 'Record 4', 'Record 5'])\n",
    "\n",
    "plt.show()\n",
    "\n",
    "        "
   ]
  },
  {
   "cell_type": "code",
   "execution_count": 34,
   "id": "7447dede",
   "metadata": {},
   "outputs": [],
   "source": [
    "x_train2 = data[0:7000, 0:46]\n",
    "y_train2 = data[0:7000, 46:51]\n",
    "\n",
    "x_test2 = data[7000:10000, 0:46]\n",
    "y_test2 = data[7000:10000, 46:51]\n",
    "\n",
    "x_predictions2 = data[7000:7005, 0:46]\n",
    "y_predictions2 = data[7000:7005, 46:51]"
   ]
  },
  {
   "cell_type": "code",
   "execution_count": 76,
   "id": "b7eac95e",
   "metadata": {},
   "outputs": [
    {
     "name": "stdout",
     "output_type": "stream",
     "text": [
      "Model: \"sequential_18\"\n",
      "_________________________________________________________________\n",
      " Layer (type)                Output Shape              Param #   \n",
      "=================================================================\n",
      " simple_rnn_36 (SimpleRNN)   (7000, 46, 15)            255       \n",
      "                                                                 \n",
      " simple_rnn_37 (SimpleRNN)   (7000, 15)                465       \n",
      "                                                                 \n",
      " dense_18 (Dense)            (7000, 5)                 80        \n",
      "                                                                 \n",
      "=================================================================\n",
      "Total params: 800\n",
      "Trainable params: 800\n",
      "Non-trainable params: 0\n",
      "_________________________________________________________________\n"
     ]
    }
   ],
   "source": [
    "model2 = Sequential()\n",
    "model2.add(SimpleRNN(15, return_sequences=True))\n",
    "model2.add(SimpleRNN(15))\n",
    "model2.add(Dense(5, activation='linear'))\n",
    "model2.compile(loss='mse', optimizer='adam')\n",
    "model2.build(x_train2.shape)\n",
    "model2.summary()"
   ]
  },
  {
   "cell_type": "code",
   "execution_count": 77,
   "id": "0178dd57",
   "metadata": {
    "scrolled": true
   },
   "outputs": [
    {
     "name": "stdout",
     "output_type": "stream",
     "text": [
      "Epoch 1/15\n",
      "197/197 [==============================] - 13s 64ms/step - loss: 0.0613 - val_loss: 0.0334\n",
      "Epoch 2/15\n",
      "197/197 [==============================] - 12s 61ms/step - loss: 0.0259 - val_loss: 0.0237\n",
      "Epoch 3/15\n",
      "197/197 [==============================] - 12s 60ms/step - loss: 0.0195 - val_loss: 0.0188\n",
      "Epoch 4/15\n",
      "197/197 [==============================] - 12s 60ms/step - loss: 0.0169 - val_loss: 0.0173\n",
      "Epoch 5/15\n",
      "197/197 [==============================] - 12s 61ms/step - loss: 0.0148 - val_loss: 0.0180\n",
      "Epoch 6/15\n",
      " 68/197 [=========>....................] - ETA: 7s - loss: 0.0150"
     ]
    },
    {
     "ename": "KeyboardInterrupt",
     "evalue": "",
     "output_type": "error",
     "traceback": [
      "\u001b[1;31m---------------------------------------------------------------------------\u001b[0m",
      "\u001b[1;31mKeyboardInterrupt\u001b[0m                         Traceback (most recent call last)",
      "Input \u001b[1;32mIn [77]\u001b[0m, in \u001b[0;36m<module>\u001b[1;34m\u001b[0m\n\u001b[1;32m----> 1\u001b[0m \u001b[43mmodel2\u001b[49m\u001b[38;5;241;43m.\u001b[39;49m\u001b[43mfit\u001b[49m\u001b[43m(\u001b[49m\u001b[43mx_train2\u001b[49m\u001b[43m,\u001b[49m\u001b[43m \u001b[49m\u001b[43my_train2\u001b[49m\u001b[43m,\u001b[49m\u001b[43m \u001b[49m\u001b[43mvalidation_split\u001b[49m\u001b[38;5;241;43m=\u001b[39;49m\u001b[38;5;241;43m0.1\u001b[39;49m\u001b[43m,\u001b[49m\u001b[43m \u001b[49m\u001b[43mbatch_size\u001b[49m\u001b[38;5;241;43m=\u001b[39;49m\u001b[38;5;241;43m32\u001b[39;49m\u001b[43m,\u001b[49m\u001b[43m \u001b[49m\u001b[43mepochs\u001b[49m\u001b[38;5;241;43m=\u001b[39;49m\u001b[38;5;241;43m15\u001b[39;49m\u001b[43m)\u001b[49m\n",
      "File \u001b[1;32m~\\AppData\\Roaming\\Python\\Python39\\site-packages\\keras\\utils\\traceback_utils.py:64\u001b[0m, in \u001b[0;36mfilter_traceback.<locals>.error_handler\u001b[1;34m(*args, **kwargs)\u001b[0m\n\u001b[0;32m     62\u001b[0m filtered_tb \u001b[38;5;241m=\u001b[39m \u001b[38;5;28;01mNone\u001b[39;00m\n\u001b[0;32m     63\u001b[0m \u001b[38;5;28;01mtry\u001b[39;00m:\n\u001b[1;32m---> 64\u001b[0m   \u001b[38;5;28;01mreturn\u001b[39;00m fn(\u001b[38;5;241m*\u001b[39margs, \u001b[38;5;241m*\u001b[39m\u001b[38;5;241m*\u001b[39mkwargs)\n\u001b[0;32m     65\u001b[0m \u001b[38;5;28;01mexcept\u001b[39;00m \u001b[38;5;167;01mException\u001b[39;00m \u001b[38;5;28;01mas\u001b[39;00m e:  \u001b[38;5;66;03m# pylint: disable=broad-except\u001b[39;00m\n\u001b[0;32m     66\u001b[0m   filtered_tb \u001b[38;5;241m=\u001b[39m _process_traceback_frames(e\u001b[38;5;241m.\u001b[39m__traceback__)\n",
      "File \u001b[1;32m~\\AppData\\Roaming\\Python\\Python39\\site-packages\\keras\\engine\\training.py:1216\u001b[0m, in \u001b[0;36mModel.fit\u001b[1;34m(self, x, y, batch_size, epochs, verbose, callbacks, validation_split, validation_data, shuffle, class_weight, sample_weight, initial_epoch, steps_per_epoch, validation_steps, validation_batch_size, validation_freq, max_queue_size, workers, use_multiprocessing)\u001b[0m\n\u001b[0;32m   1209\u001b[0m \u001b[38;5;28;01mwith\u001b[39;00m tf\u001b[38;5;241m.\u001b[39mprofiler\u001b[38;5;241m.\u001b[39mexperimental\u001b[38;5;241m.\u001b[39mTrace(\n\u001b[0;32m   1210\u001b[0m     \u001b[38;5;124m'\u001b[39m\u001b[38;5;124mtrain\u001b[39m\u001b[38;5;124m'\u001b[39m,\n\u001b[0;32m   1211\u001b[0m     epoch_num\u001b[38;5;241m=\u001b[39mepoch,\n\u001b[0;32m   1212\u001b[0m     step_num\u001b[38;5;241m=\u001b[39mstep,\n\u001b[0;32m   1213\u001b[0m     batch_size\u001b[38;5;241m=\u001b[39mbatch_size,\n\u001b[0;32m   1214\u001b[0m     _r\u001b[38;5;241m=\u001b[39m\u001b[38;5;241m1\u001b[39m):\n\u001b[0;32m   1215\u001b[0m   callbacks\u001b[38;5;241m.\u001b[39mon_train_batch_begin(step)\n\u001b[1;32m-> 1216\u001b[0m   tmp_logs \u001b[38;5;241m=\u001b[39m \u001b[38;5;28;43mself\u001b[39;49m\u001b[38;5;241;43m.\u001b[39;49m\u001b[43mtrain_function\u001b[49m\u001b[43m(\u001b[49m\u001b[43miterator\u001b[49m\u001b[43m)\u001b[49m\n\u001b[0;32m   1217\u001b[0m   \u001b[38;5;28;01mif\u001b[39;00m data_handler\u001b[38;5;241m.\u001b[39mshould_sync:\n\u001b[0;32m   1218\u001b[0m     context\u001b[38;5;241m.\u001b[39masync_wait()\n",
      "File \u001b[1;32m~\\AppData\\Roaming\\Python\\Python39\\site-packages\\tensorflow\\python\\util\\traceback_utils.py:150\u001b[0m, in \u001b[0;36mfilter_traceback.<locals>.error_handler\u001b[1;34m(*args, **kwargs)\u001b[0m\n\u001b[0;32m    148\u001b[0m filtered_tb \u001b[38;5;241m=\u001b[39m \u001b[38;5;28;01mNone\u001b[39;00m\n\u001b[0;32m    149\u001b[0m \u001b[38;5;28;01mtry\u001b[39;00m:\n\u001b[1;32m--> 150\u001b[0m   \u001b[38;5;28;01mreturn\u001b[39;00m fn(\u001b[38;5;241m*\u001b[39margs, \u001b[38;5;241m*\u001b[39m\u001b[38;5;241m*\u001b[39mkwargs)\n\u001b[0;32m    151\u001b[0m \u001b[38;5;28;01mexcept\u001b[39;00m \u001b[38;5;167;01mException\u001b[39;00m \u001b[38;5;28;01mas\u001b[39;00m e:\n\u001b[0;32m    152\u001b[0m   filtered_tb \u001b[38;5;241m=\u001b[39m _process_traceback_frames(e\u001b[38;5;241m.\u001b[39m__traceback__)\n",
      "File \u001b[1;32m~\\AppData\\Roaming\\Python\\Python39\\site-packages\\tensorflow\\python\\eager\\def_function.py:910\u001b[0m, in \u001b[0;36mFunction.__call__\u001b[1;34m(self, *args, **kwds)\u001b[0m\n\u001b[0;32m    907\u001b[0m compiler \u001b[38;5;241m=\u001b[39m \u001b[38;5;124m\"\u001b[39m\u001b[38;5;124mxla\u001b[39m\u001b[38;5;124m\"\u001b[39m \u001b[38;5;28;01mif\u001b[39;00m \u001b[38;5;28mself\u001b[39m\u001b[38;5;241m.\u001b[39m_jit_compile \u001b[38;5;28;01melse\u001b[39;00m \u001b[38;5;124m\"\u001b[39m\u001b[38;5;124mnonXla\u001b[39m\u001b[38;5;124m\"\u001b[39m\n\u001b[0;32m    909\u001b[0m \u001b[38;5;28;01mwith\u001b[39;00m OptionalXlaContext(\u001b[38;5;28mself\u001b[39m\u001b[38;5;241m.\u001b[39m_jit_compile):\n\u001b[1;32m--> 910\u001b[0m   result \u001b[38;5;241m=\u001b[39m \u001b[38;5;28mself\u001b[39m\u001b[38;5;241m.\u001b[39m_call(\u001b[38;5;241m*\u001b[39margs, \u001b[38;5;241m*\u001b[39m\u001b[38;5;241m*\u001b[39mkwds)\n\u001b[0;32m    912\u001b[0m new_tracing_count \u001b[38;5;241m=\u001b[39m \u001b[38;5;28mself\u001b[39m\u001b[38;5;241m.\u001b[39mexperimental_get_tracing_count()\n\u001b[0;32m    913\u001b[0m without_tracing \u001b[38;5;241m=\u001b[39m (tracing_count \u001b[38;5;241m==\u001b[39m new_tracing_count)\n",
      "File \u001b[1;32m~\\AppData\\Roaming\\Python\\Python39\\site-packages\\tensorflow\\python\\eager\\def_function.py:942\u001b[0m, in \u001b[0;36mFunction._call\u001b[1;34m(self, *args, **kwds)\u001b[0m\n\u001b[0;32m    939\u001b[0m   \u001b[38;5;28mself\u001b[39m\u001b[38;5;241m.\u001b[39m_lock\u001b[38;5;241m.\u001b[39mrelease()\n\u001b[0;32m    940\u001b[0m   \u001b[38;5;66;03m# In this case we have created variables on the first call, so we run the\u001b[39;00m\n\u001b[0;32m    941\u001b[0m   \u001b[38;5;66;03m# defunned version which is guaranteed to never create variables.\u001b[39;00m\n\u001b[1;32m--> 942\u001b[0m   \u001b[38;5;28;01mreturn\u001b[39;00m \u001b[38;5;28mself\u001b[39m\u001b[38;5;241m.\u001b[39m_stateless_fn(\u001b[38;5;241m*\u001b[39margs, \u001b[38;5;241m*\u001b[39m\u001b[38;5;241m*\u001b[39mkwds)  \u001b[38;5;66;03m# pylint: disable=not-callable\u001b[39;00m\n\u001b[0;32m    943\u001b[0m \u001b[38;5;28;01melif\u001b[39;00m \u001b[38;5;28mself\u001b[39m\u001b[38;5;241m.\u001b[39m_stateful_fn \u001b[38;5;129;01mis\u001b[39;00m \u001b[38;5;129;01mnot\u001b[39;00m \u001b[38;5;28;01mNone\u001b[39;00m:\n\u001b[0;32m    944\u001b[0m   \u001b[38;5;66;03m# Release the lock early so that multiple threads can perform the call\u001b[39;00m\n\u001b[0;32m    945\u001b[0m   \u001b[38;5;66;03m# in parallel.\u001b[39;00m\n\u001b[0;32m    946\u001b[0m   \u001b[38;5;28mself\u001b[39m\u001b[38;5;241m.\u001b[39m_lock\u001b[38;5;241m.\u001b[39mrelease()\n",
      "File \u001b[1;32m~\\AppData\\Roaming\\Python\\Python39\\site-packages\\tensorflow\\python\\eager\\function.py:3130\u001b[0m, in \u001b[0;36mFunction.__call__\u001b[1;34m(self, *args, **kwargs)\u001b[0m\n\u001b[0;32m   3127\u001b[0m \u001b[38;5;28;01mwith\u001b[39;00m \u001b[38;5;28mself\u001b[39m\u001b[38;5;241m.\u001b[39m_lock:\n\u001b[0;32m   3128\u001b[0m   (graph_function,\n\u001b[0;32m   3129\u001b[0m    filtered_flat_args) \u001b[38;5;241m=\u001b[39m \u001b[38;5;28mself\u001b[39m\u001b[38;5;241m.\u001b[39m_maybe_define_function(args, kwargs)\n\u001b[1;32m-> 3130\u001b[0m \u001b[38;5;28;01mreturn\u001b[39;00m \u001b[43mgraph_function\u001b[49m\u001b[38;5;241;43m.\u001b[39;49m\u001b[43m_call_flat\u001b[49m\u001b[43m(\u001b[49m\n\u001b[0;32m   3131\u001b[0m \u001b[43m    \u001b[49m\u001b[43mfiltered_flat_args\u001b[49m\u001b[43m,\u001b[49m\u001b[43m \u001b[49m\u001b[43mcaptured_inputs\u001b[49m\u001b[38;5;241;43m=\u001b[39;49m\u001b[43mgraph_function\u001b[49m\u001b[38;5;241;43m.\u001b[39;49m\u001b[43mcaptured_inputs\u001b[49m\u001b[43m)\u001b[49m\n",
      "File \u001b[1;32m~\\AppData\\Roaming\\Python\\Python39\\site-packages\\tensorflow\\python\\eager\\function.py:1959\u001b[0m, in \u001b[0;36mConcreteFunction._call_flat\u001b[1;34m(self, args, captured_inputs, cancellation_manager)\u001b[0m\n\u001b[0;32m   1955\u001b[0m possible_gradient_type \u001b[38;5;241m=\u001b[39m gradients_util\u001b[38;5;241m.\u001b[39mPossibleTapeGradientTypes(args)\n\u001b[0;32m   1956\u001b[0m \u001b[38;5;28;01mif\u001b[39;00m (possible_gradient_type \u001b[38;5;241m==\u001b[39m gradients_util\u001b[38;5;241m.\u001b[39mPOSSIBLE_GRADIENT_TYPES_NONE\n\u001b[0;32m   1957\u001b[0m     \u001b[38;5;129;01mand\u001b[39;00m executing_eagerly):\n\u001b[0;32m   1958\u001b[0m   \u001b[38;5;66;03m# No tape is watching; skip to running the function.\u001b[39;00m\n\u001b[1;32m-> 1959\u001b[0m   \u001b[38;5;28;01mreturn\u001b[39;00m \u001b[38;5;28mself\u001b[39m\u001b[38;5;241m.\u001b[39m_build_call_outputs(\u001b[38;5;28;43mself\u001b[39;49m\u001b[38;5;241;43m.\u001b[39;49m\u001b[43m_inference_function\u001b[49m\u001b[38;5;241;43m.\u001b[39;49m\u001b[43mcall\u001b[49m\u001b[43m(\u001b[49m\n\u001b[0;32m   1960\u001b[0m \u001b[43m      \u001b[49m\u001b[43mctx\u001b[49m\u001b[43m,\u001b[49m\u001b[43m \u001b[49m\u001b[43margs\u001b[49m\u001b[43m,\u001b[49m\u001b[43m \u001b[49m\u001b[43mcancellation_manager\u001b[49m\u001b[38;5;241;43m=\u001b[39;49m\u001b[43mcancellation_manager\u001b[49m\u001b[43m)\u001b[49m)\n\u001b[0;32m   1961\u001b[0m forward_backward \u001b[38;5;241m=\u001b[39m \u001b[38;5;28mself\u001b[39m\u001b[38;5;241m.\u001b[39m_select_forward_and_backward_functions(\n\u001b[0;32m   1962\u001b[0m     args,\n\u001b[0;32m   1963\u001b[0m     possible_gradient_type,\n\u001b[0;32m   1964\u001b[0m     executing_eagerly)\n\u001b[0;32m   1965\u001b[0m forward_function, args_with_tangents \u001b[38;5;241m=\u001b[39m forward_backward\u001b[38;5;241m.\u001b[39mforward()\n",
      "File \u001b[1;32m~\\AppData\\Roaming\\Python\\Python39\\site-packages\\tensorflow\\python\\eager\\function.py:598\u001b[0m, in \u001b[0;36m_EagerDefinedFunction.call\u001b[1;34m(self, ctx, args, cancellation_manager)\u001b[0m\n\u001b[0;32m    596\u001b[0m \u001b[38;5;28;01mwith\u001b[39;00m _InterpolateFunctionError(\u001b[38;5;28mself\u001b[39m):\n\u001b[0;32m    597\u001b[0m   \u001b[38;5;28;01mif\u001b[39;00m cancellation_manager \u001b[38;5;129;01mis\u001b[39;00m \u001b[38;5;28;01mNone\u001b[39;00m:\n\u001b[1;32m--> 598\u001b[0m     outputs \u001b[38;5;241m=\u001b[39m \u001b[43mexecute\u001b[49m\u001b[38;5;241;43m.\u001b[39;49m\u001b[43mexecute\u001b[49m\u001b[43m(\u001b[49m\n\u001b[0;32m    599\u001b[0m \u001b[43m        \u001b[49m\u001b[38;5;28;43mstr\u001b[39;49m\u001b[43m(\u001b[49m\u001b[38;5;28;43mself\u001b[39;49m\u001b[38;5;241;43m.\u001b[39;49m\u001b[43msignature\u001b[49m\u001b[38;5;241;43m.\u001b[39;49m\u001b[43mname\u001b[49m\u001b[43m)\u001b[49m\u001b[43m,\u001b[49m\n\u001b[0;32m    600\u001b[0m \u001b[43m        \u001b[49m\u001b[43mnum_outputs\u001b[49m\u001b[38;5;241;43m=\u001b[39;49m\u001b[38;5;28;43mself\u001b[39;49m\u001b[38;5;241;43m.\u001b[39;49m\u001b[43m_num_outputs\u001b[49m\u001b[43m,\u001b[49m\n\u001b[0;32m    601\u001b[0m \u001b[43m        \u001b[49m\u001b[43minputs\u001b[49m\u001b[38;5;241;43m=\u001b[39;49m\u001b[43margs\u001b[49m\u001b[43m,\u001b[49m\n\u001b[0;32m    602\u001b[0m \u001b[43m        \u001b[49m\u001b[43mattrs\u001b[49m\u001b[38;5;241;43m=\u001b[39;49m\u001b[43mattrs\u001b[49m\u001b[43m,\u001b[49m\n\u001b[0;32m    603\u001b[0m \u001b[43m        \u001b[49m\u001b[43mctx\u001b[49m\u001b[38;5;241;43m=\u001b[39;49m\u001b[43mctx\u001b[49m\u001b[43m)\u001b[49m\n\u001b[0;32m    604\u001b[0m   \u001b[38;5;28;01melse\u001b[39;00m:\n\u001b[0;32m    605\u001b[0m     outputs \u001b[38;5;241m=\u001b[39m execute\u001b[38;5;241m.\u001b[39mexecute_with_cancellation(\n\u001b[0;32m    606\u001b[0m         \u001b[38;5;28mstr\u001b[39m(\u001b[38;5;28mself\u001b[39m\u001b[38;5;241m.\u001b[39msignature\u001b[38;5;241m.\u001b[39mname),\n\u001b[0;32m    607\u001b[0m         num_outputs\u001b[38;5;241m=\u001b[39m\u001b[38;5;28mself\u001b[39m\u001b[38;5;241m.\u001b[39m_num_outputs,\n\u001b[1;32m   (...)\u001b[0m\n\u001b[0;32m    610\u001b[0m         ctx\u001b[38;5;241m=\u001b[39mctx,\n\u001b[0;32m    611\u001b[0m         cancellation_manager\u001b[38;5;241m=\u001b[39mcancellation_manager)\n",
      "File \u001b[1;32m~\\AppData\\Roaming\\Python\\Python39\\site-packages\\tensorflow\\python\\eager\\execute.py:58\u001b[0m, in \u001b[0;36mquick_execute\u001b[1;34m(op_name, num_outputs, inputs, attrs, ctx, name)\u001b[0m\n\u001b[0;32m     56\u001b[0m \u001b[38;5;28;01mtry\u001b[39;00m:\n\u001b[0;32m     57\u001b[0m   ctx\u001b[38;5;241m.\u001b[39mensure_initialized()\n\u001b[1;32m---> 58\u001b[0m   tensors \u001b[38;5;241m=\u001b[39m \u001b[43mpywrap_tfe\u001b[49m\u001b[38;5;241;43m.\u001b[39;49m\u001b[43mTFE_Py_Execute\u001b[49m\u001b[43m(\u001b[49m\u001b[43mctx\u001b[49m\u001b[38;5;241;43m.\u001b[39;49m\u001b[43m_handle\u001b[49m\u001b[43m,\u001b[49m\u001b[43m \u001b[49m\u001b[43mdevice_name\u001b[49m\u001b[43m,\u001b[49m\u001b[43m \u001b[49m\u001b[43mop_name\u001b[49m\u001b[43m,\u001b[49m\n\u001b[0;32m     59\u001b[0m \u001b[43m                                      \u001b[49m\u001b[43minputs\u001b[49m\u001b[43m,\u001b[49m\u001b[43m \u001b[49m\u001b[43mattrs\u001b[49m\u001b[43m,\u001b[49m\u001b[43m \u001b[49m\u001b[43mnum_outputs\u001b[49m\u001b[43m)\u001b[49m\n\u001b[0;32m     60\u001b[0m \u001b[38;5;28;01mexcept\u001b[39;00m core\u001b[38;5;241m.\u001b[39m_NotOkStatusException \u001b[38;5;28;01mas\u001b[39;00m e:\n\u001b[0;32m     61\u001b[0m   \u001b[38;5;28;01mif\u001b[39;00m name \u001b[38;5;129;01mis\u001b[39;00m \u001b[38;5;129;01mnot\u001b[39;00m \u001b[38;5;28;01mNone\u001b[39;00m:\n",
      "\u001b[1;31mKeyboardInterrupt\u001b[0m: "
     ]
    }
   ],
   "source": [
    "model2.fit(x_train2, y_train2, validation_split=0.1, batch_size=32, epochs=15)"
   ]
  },
  {
   "cell_type": "code",
   "execution_count": null,
   "id": "49186f21",
   "metadata": {},
   "outputs": [],
   "source": [
    "model2.evaluate(x_test2, y_test2)"
   ]
  },
  {
   "cell_type": "code",
   "execution_count": 104,
   "id": "f5aeeab6",
   "metadata": {
    "scrolled": true
   },
   "outputs": [
    {
     "name": "stdout",
     "output_type": "stream",
     "text": [
      "Record 1 Prediction: [0.2839323  0.38908815 0.46178287 0.46410853 0.41792327]\n",
      "Record 2 Prediction: [0.40186474 0.31143314 0.3537581  0.29379156 0.4127413 ]\n",
      "Record 3 Prediction: [0.40451258 0.4091534  0.51758564 0.55370945 0.57178736]\n",
      "Record 4 Prediction: [0.5150644  0.5138801  0.5402645  0.4937076  0.53959805]\n",
      "Record 5 Prediction: [ 0.25757456  0.09817855 -0.05326137 -0.20130746 -0.34840697]\n"
     ]
    },
    {
     "data": {
      "image/png": "[encoded data removed]",
      "text/plain": [
       "<Figure size 432x288 with 1 Axes>"
      ]
     },
     "metadata": {
      "needs_background": "light"
     },
     "output_type": "display_data"
    }
   ],
   "source": [
    "pred2 = model2.predict(x_predictions2)\n",
    "for p in range(len(pred2)):\n",
    "    print(f'Record {p + 1} Prediction: {pred2[p]}')\n",
    "    \n",
    "plt.plot([i for i in range(1, len(x_predictions3) + 1)], pred2)\n",
    "plt.xticks(range(1, len(x_predictions2) + 1))\n",
    "plt.legend(['Record 1', 'Record 2', 'Record 3', 'Record 4', 'Record 5'])\n",
    "plt.show()"
   ]
  },
  {
   "cell_type": "code",
   "execution_count": 66,
   "id": "8152a033",
   "metadata": {},
   "outputs": [],
   "source": [
    "# You will need to adjust X and Y. Consider the following:\n",
    "# X[0 - 46]\n",
    "# Y1 = X[1-5], Y2 = X[2-6], Y3 = X[3-7] .... Ylast = X[47-51]\n",
    "step_count = 51 - 5 # which implies X[0:46]\n",
    "Y_outputs = 5\n",
    "Y_seq = np.empty( (10000, step_count, Y_outputs) )\n",
    "for next in range(1, Y_outputs - 1):\n",
    "    # for all rows and for all time steps, set Y output vector\n",
    "    Y_seq[ :, :, next-1 ] = data[ :, next:next+step_count, 0]"
   ]
  },
  {
   "cell_type": "code",
   "execution_count": 67,
   "id": "95491fa2",
   "metadata": {},
   "outputs": [],
   "source": [
    "x_train3 = data[0:7000, 0:46]\n",
    "y_train3 = Y_seq[0:7000]\n",
    "\n",
    "x_test3 = data[7000:10000, 0:46]\n",
    "y_test3 = Y_seq[7000:10000]\n",
    "\n",
    "x_predictions3 = data[7000:7005, 0:46]\n",
    "y_predictions3 = Y_seq[7000:7005]"
   ]
  },
  {
   "cell_type": "code",
   "execution_count": 97,
   "id": "939d6927",
   "metadata": {},
   "outputs": [
    {
     "name": "stdout",
     "output_type": "stream",
     "text": [
      "Model: \"sequential_21\"\n",
      "_________________________________________________________________\n",
      " Layer (type)                Output Shape              Param #   \n",
      "=================================================================\n",
      " simple_rnn_42 (SimpleRNN)   (7000, 46, 15)            255       \n",
      "                                                                 \n",
      " simple_rnn_43 (SimpleRNN)   (7000, 46, 15)            465       \n",
      "                                                                 \n",
      " dense_21 (Dense)            (7000, 46, 5)             80        \n",
      "                                                                 \n",
      "=================================================================\n",
      "Total params: 800\n",
      "Trainable params: 800\n",
      "Non-trainable params: 0\n",
      "_________________________________________________________________\n"
     ]
    }
   ],
   "source": [
    "model3 = Sequential()\n",
    "model3.add(SimpleRNN(15, return_sequences=True))\n",
    "model3.add(SimpleRNN(15, return_sequences=True))\n",
    "model3.add(Dense(5, activation='linear'))\n",
    "model3.compile(loss='mse', optimizer='adam')\n",
    "model3.build(x_train3.shape)\n",
    "model3.summary()"
   ]
  },
  {
   "cell_type": "code",
   "execution_count": 80,
   "id": "42878148",
   "metadata": {
    "scrolled": true
   },
   "outputs": [
    {
     "name": "stdout",
     "output_type": "stream",
     "text": [
      "Epoch 1/15\n",
      "197/197 [==============================] - 13s 61ms/step - loss: 0.0367 - val_loss: 0.0165\n",
      "Epoch 2/15\n",
      "197/197 [==============================] - 12s 61ms/step - loss: 0.0139 - val_loss: 0.0124\n",
      "Epoch 3/15\n",
      "197/197 [==============================] - 12s 61ms/step - loss: 0.0119 - val_loss: 0.0114\n",
      "Epoch 4/15\n",
      "197/197 [==============================] - 12s 62ms/step - loss: 0.0112 - val_loss: 0.0109\n",
      "Epoch 5/15\n",
      "197/197 [==============================] - 12s 62ms/step - loss: 0.0108 - val_loss: 0.0106\n",
      "Epoch 6/15\n",
      "197/197 [==============================] - 12s 62ms/step - loss: 0.0106 - val_loss: 0.0103\n",
      "Epoch 7/15\n",
      "197/197 [==============================] - 12s 63ms/step - loss: 0.0103 - val_loss: 0.0102\n",
      "Epoch 8/15\n",
      "197/197 [==============================] - 12s 61ms/step - loss: 0.0101 - val_loss: 0.0099\n",
      "Epoch 9/15\n",
      "197/197 [==============================] - 12s 60ms/step - loss: 0.0098 - val_loss: 0.0098\n",
      "Epoch 10/15\n",
      "197/197 [==============================] - 12s 60ms/step - loss: 0.0096 - val_loss: 0.0098\n",
      "Epoch 11/15\n",
      "197/197 [==============================] - 12s 60ms/step - loss: 0.0093 - val_loss: 0.0091\n",
      "Epoch 12/15\n",
      "197/197 [==============================] - 12s 62ms/step - loss: 0.0091 - val_loss: 0.0089\n",
      "Epoch 13/15\n",
      "197/197 [==============================] - 12s 61ms/step - loss: 0.0089 - val_loss: 0.0088\n",
      "Epoch 14/15\n",
      "197/197 [==============================] - 12s 60ms/step - loss: 0.0086 - val_loss: 0.0085\n",
      "Epoch 15/15\n",
      "197/197 [==============================] - 12s 62ms/step - loss: 0.0085 - val_loss: 0.0084\n"
     ]
    },
    {
     "data": {
      "text/plain": [
       "<keras.callbacks.History at 0x252b89742b0>"
      ]
     },
     "execution_count": 80,
     "metadata": {},
     "output_type": "execute_result"
    }
   ],
   "source": [
    "model3.fit(x_train3, y_train3, validation_split=0.1, batch_size=32, epochs=15)"
   ]
  },
  {
   "cell_type": "code",
   "execution_count": null,
   "id": "c498bedc",
   "metadata": {},
   "outputs": [],
   "source": [
    "model3.evaluate(x_test3, y_test3)"
   ]
  },
  {
   "cell_type": "code",
   "execution_count": 106,
   "id": "f9419b11",
   "metadata": {
    "scrolled": true
   },
   "outputs": [
    {
     "name": "stdout",
     "output_type": "stream",
     "text": [
      "Record 1 Prediction: [0.32212603]\n",
      "Record 2 Prediction: [0.33321336]\n",
      "Record 3 Prediction: [0.37912804]\n",
      "Record 4 Prediction: [0.55965954]\n",
      "Record 5 Prediction: [0.32515565]\n"
     ]
    },
    {
     "data": {
      "image/png": "[encoded data removed]",
      "text/plain": [
       "<Figure size 432x288 with 1 Axes>"
      ]
     },
     "metadata": {
      "needs_background": "light"
     },
     "output_type": "display_data"
    }
   ],
   "source": [
    "pred3 = model.predict(x_predictions3)\n",
    "for p in range(len(pred3)):\n",
    "    print(f'Record {p + 1} Prediction: {pred3[p]}')\n",
    "plt.scatter([i for i in range(1, len(x_predictions3) + 1)], pred3)\n",
    "plt.xticks(range(1, len(x_predictions3) + 1))\n",
    "\n",
    "plt.show()"
   ]
  },
  {
   "cell_type": "code",
   "execution_count": 108,
   "id": "390e3498",
   "metadata": {},
   "outputs": [
    {
     "name": "stdout",
     "output_type": "stream",
     "text": [
      "Model: \"sequential_24\"\n",
      "_________________________________________________________________\n",
      " Layer (type)                Output Shape              Param #   \n",
      "=================================================================\n",
      " lstm (LSTM)                 (7000, 46, 15)            1020      \n",
      "                                                                 \n",
      " lstm_1 (LSTM)               (7000, 46, 15)            1860      \n",
      "                                                                 \n",
      " dense_23 (Dense)            (7000, 46, 5)             80        \n",
      "                                                                 \n",
      "=================================================================\n",
      "Total params: 2,960\n",
      "Trainable params: 2,960\n",
      "Non-trainable params: 0\n",
      "_________________________________________________________________\n"
     ]
    }
   ],
   "source": [
    "model_lstm = Sequential()\n",
    "model_lstm.add(LSTM(15, return_sequences=True))\n",
    "model_lstm.add(LSTM(15, return_sequences=True))\n",
    "model_lstm.add(Dense(5, activation='linear'))\n",
    "model_lstm.compile(loss='mse', optimizer='adam')\n",
    "model_lstm.build(x_train3.shape)\n",
    "model_lstm.summary()"
   ]
  },
  {
   "cell_type": "code",
   "execution_count": 109,
   "id": "6d15f4b0",
   "metadata": {},
   "outputs": [
    {
     "name": "stdout",
     "output_type": "stream",
     "text": [
      "Epoch 1/15\n",
      "197/197 [==============================] - 8s 11ms/step - loss: 0.0469 - val_loss: 0.0335\n",
      "Epoch 2/15\n",
      "197/197 [==============================] - 2s 8ms/step - loss: 0.0277 - val_loss: 0.0201\n",
      "Epoch 3/15\n",
      "197/197 [==============================] - 2s 9ms/step - loss: 0.0155 - val_loss: 0.0124\n",
      "Epoch 4/15\n",
      "197/197 [==============================] - 2s 9ms/step - loss: 0.0113 - val_loss: 0.0104\n",
      "Epoch 5/15\n",
      "197/197 [==============================] - 2s 8ms/step - loss: 0.0101 - val_loss: 0.0096\n",
      "Epoch 6/15\n",
      "197/197 [==============================] - 2s 8ms/step - loss: 0.0095 - val_loss: 0.0093\n",
      "Epoch 7/15\n",
      "197/197 [==============================] - 2s 8ms/step - loss: 0.0091 - val_loss: 0.0088\n",
      "Epoch 8/15\n",
      "197/197 [==============================] - 2s 8ms/step - loss: 0.0087 - val_loss: 0.0083\n",
      "Epoch 9/15\n",
      "197/197 [==============================] - 2s 8ms/step - loss: 0.0083 - val_loss: 0.0080\n",
      "Epoch 10/15\n",
      "197/197 [==============================] - 2s 8ms/step - loss: 0.0080 - val_loss: 0.0078\n",
      "Epoch 11/15\n",
      "197/197 [==============================] - 2s 9ms/step - loss: 0.0077 - val_loss: 0.0075\n",
      "Epoch 12/15\n",
      "197/197 [==============================] - 2s 9ms/step - loss: 0.0075 - val_loss: 0.0073\n",
      "Epoch 13/15\n",
      "197/197 [==============================] - 2s 9ms/step - loss: 0.0073 - val_loss: 0.0072\n",
      "Epoch 14/15\n",
      "197/197 [==============================] - 2s 8ms/step - loss: 0.0072 - val_loss: 0.0070\n",
      "Epoch 15/15\n",
      "197/197 [==============================] - 2s 9ms/step - loss: 0.0070 - val_loss: 0.0069\n"
     ]
    },
    {
     "data": {
      "text/plain": [
       "<keras.callbacks.History at 0x252b5721820>"
      ]
     },
     "execution_count": 109,
     "metadata": {},
     "output_type": "execute_result"
    }
   ],
   "source": [
    "model_lstm.fit(x_train3, y_train3, validation_split=0.1, batch_size=32, epochs=15)"
   ]
  },
  {
   "cell_type": "code",
   "execution_count": 110,
   "id": "e5a23669",
   "metadata": {
    "scrolled": true
   },
   "outputs": [
    {
     "name": "stdout",
     "output_type": "stream",
     "text": [
      "Model: \"sequential_25\"\n",
      "_________________________________________________________________\n",
      " Layer (type)                Output Shape              Param #   \n",
      "=================================================================\n",
      " gru (GRU)                   (7000, 46, 15)            810       \n",
      "                                                                 \n",
      " gru_1 (GRU)                 (7000, 46, 15)            1440      \n",
      "                                                                 \n",
      " dense_24 (Dense)            (7000, 46, 5)             80        \n",
      "                                                                 \n",
      "=================================================================\n",
      "Total params: 2,330\n",
      "Trainable params: 2,330\n",
      "Non-trainable params: 0\n",
      "_________________________________________________________________\n"
     ]
    }
   ],
   "source": [
    "model_gru = Sequential()\n",
    "model_gru.add(GRU(15, return_sequences=True))\n",
    "model_gru.add(GRU(15, return_sequences=True))\n",
    "model_gru.add(Dense(5, activation='linear'))\n",
    "model_gru.compile(loss='mse', optimizer='adam')\n",
    "model_gru.build(x_train3.shape)\n",
    "model_gru.summary()"
   ]
  },
  {
   "cell_type": "code",
   "execution_count": 111,
   "id": "043ba515",
   "metadata": {},
   "outputs": [
    {
     "name": "stdout",
     "output_type": "stream",
     "text": [
      "Epoch 1/15\n",
      "197/197 [==============================] - 4s 11ms/step - loss: 0.0333 - val_loss: 0.0164\n",
      "Epoch 2/15\n",
      "197/197 [==============================] - 2s 8ms/step - loss: 0.0141 - val_loss: 0.0125\n",
      "Epoch 3/15\n",
      "197/197 [==============================] - 2s 9ms/step - loss: 0.0113 - val_loss: 0.0102\n",
      "Epoch 4/15\n",
      "197/197 [==============================] - 2s 8ms/step - loss: 0.0100 - val_loss: 0.0097\n",
      "Epoch 5/15\n",
      "197/197 [==============================] - 2s 9ms/step - loss: 0.0094 - val_loss: 0.0090\n",
      "Epoch 6/15\n",
      "197/197 [==============================] - 2s 9ms/step - loss: 0.0090 - val_loss: 0.0090\n",
      "Epoch 7/15\n",
      "197/197 [==============================] - 2s 8ms/step - loss: 0.0088 - val_loss: 0.0088\n",
      "Epoch 8/15\n",
      "197/197 [==============================] - 2s 8ms/step - loss: 0.0087 - val_loss: 0.0085\n",
      "Epoch 9/15\n",
      "197/197 [==============================] - 2s 8ms/step - loss: 0.0086 - val_loss: 0.0084\n",
      "Epoch 10/15\n",
      "197/197 [==============================] - 2s 9ms/step - loss: 0.0085 - val_loss: 0.0083\n",
      "Epoch 11/15\n",
      "197/197 [==============================] - 2s 8ms/step - loss: 0.0084 - val_loss: 0.0083\n",
      "Epoch 12/15\n",
      "197/197 [==============================] - 2s 8ms/step - loss: 0.0083 - val_loss: 0.0084\n",
      "Epoch 13/15\n",
      "197/197 [==============================] - 2s 8ms/step - loss: 0.0083 - val_loss: 0.0083\n",
      "Epoch 14/15\n",
      "197/197 [==============================] - 2s 9ms/step - loss: 0.0082 - val_loss: 0.0082\n",
      "Epoch 15/15\n",
      "197/197 [==============================] - 2s 9ms/step - loss: 0.0082 - val_loss: 0.0080\n"
     ]
    },
    {
     "data": {
      "text/plain": [
       "<keras.callbacks.History at 0x252a9e47b80>"
      ]
     },
     "execution_count": 111,
     "metadata": {},
     "output_type": "execute_result"
    }
   ],
   "source": [
    "model_gru.fit(x_train3, y_train3, validation_split=0.1, batch_size=32, epochs=15)"
   ]
  }
 ],
 "metadata": {
  "kernelspec": {
   "display_name": "Python 3 (ipykernel)",
   "language": "python",
   "name": "python3"
  },
  "language_info": {
   "codemirror_mode": {
    "name": "ipython",
    "version": 3
   },
   "file_extension": ".py",
   "mimetype": "text/x-python",
   "name": "python",
   "nbconvert_exporter": "python",
   "pygments_lexer": "ipython3",
   "version": "3.9.0"
  }
 },
 "nbformat": 4,
 "nbformat_minor": 5
}
